{
  "nbformat": 4,
  "nbformat_minor": 0,
  "metadata": {
    "colab": {
      "provenance": [],
      "authorship_tag": "ABX9TyN2y0fzniAXMLP4P+9YyDPA",
      "include_colab_link": true
    },
    "kernelspec": {
      "name": "python3",
      "display_name": "Python 3"
    },
    "language_info": {
      "name": "python"
    }
  },
  "cells": [
    {
      "cell_type": "markdown",
      "metadata": {
        "id": "view-in-github",
        "colab_type": "text"
      },
      "source": [
        "<a href=\"https://colab.research.google.com/github/gustavoadr3/verificador_jogos/blob/main/verificador_jogos.ipynb\" target=\"_parent\"><img src=\"https://colab.research.google.com/assets/colab-badge.svg\" alt=\"Open In Colab\"/></a>"
      ]
    },
    {
      "cell_type": "code",
      "execution_count": 2,
      "metadata": {
        "id": "ihElL_b43LAI"
      },
      "outputs": [],
      "source": [
        "import pandas as pd\n"
      ]
    },
    {
      "cell_type": "code",
      "source": [
        "# Função para contar números primos\n",
        "def contar_primos(sequencia):\n",
        "    primos = sum(1 for numero in sequencia if numero in [2, 3, 5] or (numero > 1 and all(numero % i != 0 for i in range(2, int(numero**0.5) + 1))))\n",
        "    return primos"
      ],
      "metadata": {
        "id": "2bjyo7mw3Tx2"
      },
      "execution_count": 3,
      "outputs": []
    },
    {
      "cell_type": "code",
      "source": [
        "# Função para contar números pares\n",
        "def contar_pares(sequencia):\n",
        "    pares = sum(1 for numero in sequencia if numero % 2 == 0)\n",
        "    return pares"
      ],
      "metadata": {
        "id": "PHrC27VT3U6j"
      },
      "execution_count": 4,
      "outputs": []
    },
    {
      "cell_type": "code",
      "source": [
        "# Função para contar números ímpares\n",
        "def contar_impares(sequencia):\n",
        "    impares = sum(1 for numero in sequencia if numero % 2 != 0)\n",
        "    return impares"
      ],
      "metadata": {
        "id": "rKpN5prz3WlD"
      },
      "execution_count": 5,
      "outputs": []
    },
    {
      "cell_type": "code",
      "source": [
        "# Função para contar números em cada quadrante\n",
        "def contar_quadrantes(sequencia):\n",
        "    quadrantes = [0] * 4\n",
        "    for numero in sequencia:\n",
        "        if 1 <= numero <= 5 or 11 <= numero <= 15 or 21 <= numero <= 25:\n",
        "           quadrantes[0] += 1\n",
        "        elif 6 <= numero <= 10 or 16 <= numero <= 20 or 26 <= numero <= 30:\n",
        "            quadrantes[1] += 1\n",
        "        elif 31 <= numero <= 35 or 41 <= numero <= 45 or 51 <= numero <= 55:\n",
        "            quadrantes[2] += 1\n",
        "        elif 36 <= numero <= 40 or 46 <= numero <= 50 or 56 <= numero <= 60:\n",
        "            quadrantes[3] += 1\n",
        "    return quadrantes\n"
      ],
      "metadata": {
        "id": "UhdWK94h3aOJ"
      },
      "execution_count": 6,
      "outputs": []
    },
    {
      "cell_type": "code",
      "source": [
        "# Carregar a planilha do Excel\n",
        "df = pd.read_excel('sequencia de numeros.xlsx')\n"
      ],
      "metadata": {
        "id": "T-wUnnVe3avg"
      },
      "execution_count": 7,
      "outputs": []
    },
    {
      "cell_type": "code",
      "source": [
        "# Separar a sequência em uma lista de números\n",
        "df['Sequencia'] = df['Coluna_de_Sequencias'].str.split(' - ').apply(lambda x: list(map(int, x)))\n"
      ],
      "metadata": {
        "id": "m8XgyN-B3dGj"
      },
      "execution_count": 8,
      "outputs": []
    },
    {
      "cell_type": "code",
      "source": [
        "# Calcular as estatísticas para cada sequência\n",
        "df['Primos'] = df['Sequencia'].apply(contar_primos)\n",
        "df['Pares'] = df['Sequencia'].apply(contar_pares)\n",
        "df['Impares'] = df['Sequencia'].apply(contar_impares)\n",
        "df['Quadrantes'] = df['Sequencia'].apply(contar_quadrantes)\n",
        "df['Quadrantes'] = df['Sequencia'].apply(contar_quadrantes)"
      ],
      "metadata": {
        "id": "2teRcf0m3fLA"
      },
      "execution_count": 9,
      "outputs": []
    },
    {
      "cell_type": "code",
      "source": [
        "# Expandir a coluna 'Quadrantes' em colunas separadas\n",
        "df_quadrantes = pd.DataFrame(df['Quadrantes'].to_list(), columns=['Quadrante1', 'Quadrante2', 'Quadrante3', 'Quadrante4'])"
      ],
      "metadata": {
        "id": "LwKRx36A3f2E"
      },
      "execution_count": 10,
      "outputs": []
    },
    {
      "cell_type": "code",
      "source": [
        "# Concatenar as novas colunas de quadrantes ao DataFrame original\n",
        "df = pd.concat([df, df_quadrantes], axis=1)\n"
      ],
      "metadata": {
        "id": "SsR2pZeq3hi9"
      },
      "execution_count": 11,
      "outputs": []
    },
    {
      "cell_type": "code",
      "source": [
        "# Reorganizar as colunas no DataFrame\n",
        "df = df[['Coluna_de_Sequencias', 'Primos', 'Pares', 'Impares', 'Quadrante1', 'Quadrante2', 'Quadrante3', 'Quadrante4']]"
      ],
      "metadata": {
        "id": "9zTQHY3-3lFJ"
      },
      "execution_count": 12,
      "outputs": []
    },
    {
      "cell_type": "code",
      "source": [
        "# Salvar o resultado em um novo arquivo Excel\n",
        "df.to_excel('resultado.xlsx', index=False)"
      ],
      "metadata": {
        "id": "iB8e_41M3mmu"
      },
      "execution_count": 13,
      "outputs": []
    }
  ]
}